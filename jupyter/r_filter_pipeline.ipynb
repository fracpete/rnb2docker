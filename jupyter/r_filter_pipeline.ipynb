{
 "cells": [
  {
   "cell_type": "markdown",
   "metadata": {},
   "source": [
    "Our dependencies:"
   ]
  },
  {
   "cell_type": "code",
   "execution_count": 38,
   "metadata": {},
   "outputs": [
    {
     "name": "stderr",
     "output_type": "stream",
     "text": [
      "Installing package into ‘/home/fracpete/R/x86_64-pc-linux-gnu-library/3.4’\n",
      "(as ‘lib’ is unspecified)\n",
      "\n",
      "also installing the dependencies ‘nlme’, ‘Matrix’, ‘mgcv’\n",
      "\n",
      "\n",
      "Warning message in install.packages(\"ggplot2\"):\n",
      "“installation of package ‘nlme’ had non-zero exit status”\n",
      "Warning message in install.packages(\"ggplot2\"):\n",
      "“installation of package ‘Matrix’ had non-zero exit status”\n",
      "Warning message in install.packages(\"ggplot2\"):\n",
      "“installation of package ‘mgcv’ had non-zero exit status”\n",
      "Warning message in install.packages(\"ggplot2\"):\n",
      "“installation of package ‘ggplot2’ had non-zero exit status”\n"
     ]
    }
   ],
   "source": [
    "install.packages('ggplot2')  # we don't actually need it, just to test the installation in the Docker image"
   ]
  },
  {
   "cell_type": "markdown",
   "metadata": {},
   "source": [
    "The following environment variables are used for determining input and output:\n",
    "\n",
    "* `INPUT` - the input file\n",
    "* `OUTPUT` - the output file\n",
    "* `VERBOSE` - whether to output some debugging information (boolean: true|false)\n",
    "\n",
    "For testing purposes, we set them to manual values if not present:"
   ]
  },
  {
   "cell_type": "code",
   "execution_count": 41,
   "metadata": {},
   "outputs": [
    {
     "name": "stdout",
     "output_type": "stream",
     "text": [
      "[1] \"INPUT= /home/fracpete/development/datasets/uci/numeric/bolts.csv\"\n",
      "[1] \"OUTPUT= /home/fracpete/temp/bolts_clean.csv\"\n"
     ]
    }
   ],
   "source": [
    "input_file = Sys.getenv(\"INPUT\", unset = \"/home/fracpete/development/datasets/uci/numeric/bolts.csv\")\n",
    "output_file <- Sys.getenv(\"OUTPUT\", unset = \"/home/fracpete/temp/bolts_clean.csv\")\n",
    "verbose <- as.logical(Sys.getenv(\"VERBOSE\", unset = \"true\"))\n",
    "\n",
    "if (verbose) {\n",
    "    print(paste(\"INPUT=\", input_file))\n",
    "    print(paste(\"OUTPUT=\", output_file))\n",
    "}"
   ]
  },
  {
   "cell_type": "markdown",
   "metadata": {},
   "source": [
    "Load data:"
   ]
  },
  {
   "cell_type": "code",
   "execution_count": 42,
   "metadata": {},
   "outputs": [
    {
     "name": "stdout",
     "output_type": "stream",
     "text": [
      "[1] \"Input data shape:\"\n",
      "[1] 40  8\n"
     ]
    }
   ],
   "source": [
    "data <- read.csv(input_file)\n",
    "if (verbose) {\n",
    "    print(\"Input data shape:\")\n",
    "    print(dim(data))\n",
    "}"
   ]
  },
  {
   "cell_type": "markdown",
   "metadata": {},
   "source": [
    "Select rows where SPEED1 (2nd column) is greater than 2:"
   ]
  },
  {
   "cell_type": "code",
   "execution_count": 43,
   "metadata": {},
   "outputs": [
    {
     "name": "stdout",
     "output_type": "stream",
     "text": [
      "[1] \"Filtered shape:\"\n",
      "[1] 24  8\n"
     ]
    }
   ],
   "source": [
    "filtered = data[data$SPEED1 > 2.0, ]\n",
    "if (verbose) {\n",
    "    print(\"Filtered shape:\")\n",
    "    print(dim(filtered))\n",
    "}"
   ]
  },
  {
   "cell_type": "markdown",
   "metadata": {},
   "source": [
    "Write output file:"
   ]
  },
  {
   "cell_type": "code",
   "execution_count": 44,
   "metadata": {},
   "outputs": [],
   "source": [
    "write.csv(filtered, output_file)"
   ]
  }
 ],
 "metadata": {
  "kernelspec": {
   "display_name": "R",
   "language": "R",
   "name": "ir"
  },
  "language_info": {
   "codemirror_mode": "r",
   "file_extension": ".r",
   "mimetype": "text/x-r-source",
   "name": "R",
   "pygments_lexer": "r",
   "version": "3.4.4"
  }
 },
 "nbformat": 4,
 "nbformat_minor": 4
}
